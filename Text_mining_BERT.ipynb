{
 "cells": [
  {
   "cell_type": "markdown",
   "metadata": {},
   "source": [
    "## Extract the data into pandas dataframes"
   ]
  },
  {
   "cell_type": "code",
   "execution_count": 1,
   "metadata": {},
   "outputs": [],
   "source": [
    "import pandas as pd\n",
    "\n",
    "# read the data into pandas dataframes\n",
    "# ---------- 2013 ----------\n",
    "train2013 = pd.read_excel(r'./downloaded - xslx transformed/twitter-2013train-A.xlsx')\n",
    "test2013 = pd.read_excel(r'./downloaded - xslx transformed/twitter-2013test-A.xlsx')\n",
    "dev2013 = pd.read_excel(r'./\\downloaded - xslx transformed/twitter-2013dev-A.xlsx')\n",
    "\n",
    "# ---------- 2014 ----------\n",
    "sarcasm2014 = pd.read_excel(r'./downloaded - xslx transformed/twitter-2014sarcasm-A.xlsx')\n",
    "test2014 = pd.read_excel(r'./downloaded - xslx transformed/twitter-2014test-A.xlsx')\n",
    "\n",
    "# ---------- 2015 ----------\n",
    "train2015 = pd.read_excel(r'./downloaded - xslx transformed/twitter-2015train-A.xlsx')\n",
    "test2015 = pd.read_excel(r'./downloaded - xslx transformed/twitter-2015test-A.xlsx')\n",
    "\n",
    "# ---------- 2016 ----------\n",
    "train2016 = pd.read_excel(r'./downloaded - xslx transformed/twitter-2016train-A.xlsx')\n",
    "test2016 = pd.read_excel(r'./downloaded - xslx transformed/twitter-2016test-A.xlsx')\n",
    "dev2016 = pd.read_excel(r'./downloaded - xslx transformed/twitter-2016train-A.xlsx')\n",
    "dev_test2016 = pd.read_excel(r'./downloaded - xslx transformed/twitter-2016devtest-A.xlsx')"
   ]
  },
  {
   "cell_type": "markdown",
   "metadata": {},
   "source": [
    "## Data Preprocessing"
   ]
  },
  {
   "cell_type": "code",
   "execution_count": 2,
   "metadata": {},
   "outputs": [],
   "source": [
    "# merge all training dataframes into one\n",
    "train_dataframes = [train2013, sarcasm2014, train2015, train2016]\n",
    "train_data = pd.concat(train_dataframes)\n",
    "\n",
    "# merge all dev dataframes into one\n",
    "dev_dataframes = [dev2013, dev2016, dev_test2016]\n",
    "dev_data = pd.concat(dev_dataframes)\n",
    "\n",
    "# merge all test dataframes into one\n",
    "test2016.pop('Column4')\n",
    "test_dataframes = [test2013, test2014, test2015, test2016]\n",
    "test_data = pd.concat(test_dataframes)"
   ]
  },
  {
   "cell_type": "code",
   "execution_count": 3,
   "metadata": {},
   "outputs": [],
   "source": [
    "# rename the columns\n",
    "train_data = train_data.rename(columns={'Column1': 'id', 'Column2': 'label', 'Column3':'tweet'})\n",
    "dev_data = dev_data.rename(columns={'Column1': 'id', 'Column2': 'label', 'Column3':'tweet'})\n",
    "test_data = test_data.rename(columns={'Column1': 'id', 'Column2': 'label', 'Column3':'tweet'})"
   ]
  },
  {
   "cell_type": "code",
   "execution_count": 4,
   "metadata": {},
   "outputs": [],
   "source": [
    "# change the labels from categorical ('positive', 'negative', 'neutral') to numerical (1, -1, 0)\n",
    "train_data['label_encoded'] = train_data['label'].map({'positive': 1, 'negative': -1, 'neutral': 0})\n",
    "dev_data['label_encoded'] = dev_data['label'].map({'positive': 1, 'negative': -1, 'neutral': 0})\n",
    "test_data['label_encoded'] = test_data['label'].map({'positive': 1, 'negative': -1, 'neutral': 0})"
   ]
  },
  {
   "cell_type": "markdown",
   "metadata": {},
   "source": [
    "### Take a look at the tweets"
   ]
  },
  {
   "cell_type": "code",
   "execution_count": 5,
   "metadata": {},
   "outputs": [],
   "source": [
    "tweet_lengths = [len(train_data.tweet.to_list()[i]) for i in range(len(train_data.tweet))]"
   ]
  },
  {
   "cell_type": "code",
   "execution_count": 6,
   "metadata": {},
   "outputs": [
    {
     "name": "stdout",
     "output_type": "stream",
     "text": [
      "Min length (character length, not number of words) of tweets:  22\n",
      "Max length (character length, not number of words) of tweets:  200\n"
     ]
    }
   ],
   "source": [
    "# get the min-max lengths of the tweets \n",
    "print('Min length (character length, not number of words) of tweets: ', min(tweet_lengths))\n",
    "print('Max length (character length, not number of words) of tweets: ', max(tweet_lengths))"
   ]
  },
  {
   "cell_type": "code",
   "execution_count": 7,
   "metadata": {},
   "outputs": [
    {
     "data": {
      "image/png": "[encoded data removed]",
      "text/plain": [
       "<Figure size 432x288 with 1 Axes>"
      ]
     },
     "metadata": {
      "needs_background": "light"
     },
     "output_type": "display_data"
    }
   ],
   "source": [
    "# plot the range of tweet lengths in the train dataset\n",
    "import matplotlib.pyplot as plt\n",
    "\n",
    "x_vals = range(len(train_data.tweet))\n",
    "y_vals = tweet_lengths\n",
    "\n",
    "plt.scatter(x_vals,y_vals)\n",
    "plt.show()"
   ]
  },
  {
   "cell_type": "markdown",
   "metadata": {},
   "source": [
    "Visibly, the tweets have pretty varied lengths"
   ]
  },
  {
   "cell_type": "code",
   "execution_count": 8,
   "metadata": {},
   "outputs": [],
   "source": [
    "# split the data into X and y\n",
    "X_train = train_data['tweet'].to_list()\n",
    "y_train = train_data['label_encoded'].to_list()\n",
    "\n",
    "X_dev = dev_data['tweet'].to_list()\n",
    "y_dev = dev_data['label_encoded'].to_list()\n",
    "\n",
    "X_test = test_data['tweet'].to_list()\n",
    "y_test = test_data['label_encoded'].to_list()"
   ]
  },
  {
   "cell_type": "markdown",
   "metadata": {},
   "source": [
    "## Create a baseline model\n",
    "\n",
    "- As a pre-processing step for this model, use TF-IDF to vectorize our data\n",
    "- The classifier chosen for the baseline model is: Naive-Bayes"
   ]
  },
  {
   "cell_type": "code",
   "execution_count": 9,
   "metadata": {},
   "outputs": [
    {
     "name": "stderr",
     "output_type": "stream",
     "text": [
      "[nltk_data] Downloading package stopwords to\n",
      "[nltk_data]     C:\\Users\\bogda\\AppData\\Roaming\\nltk_data...\n",
      "[nltk_data]   Package stopwords is already up-to-date!\n"
     ]
    }
   ],
   "source": [
    "import nltk\n",
    "# Uncomment to download \"stopwords\"\n",
    "nltk.download(\"stopwords\")\n",
    "from nltk.corpus import stopwords"
   ]
  },
  {
   "cell_type": "code",
   "execution_count": 10,
   "metadata": {},
   "outputs": [],
   "source": [
    "import re\n",
    "\n",
    "\n",
    "def text_preprocessing(tweet):\n",
    "    \"\"\"\n",
    "    - Lowercase the sentence\n",
    "    - Change \"'t\" to \"not\"\n",
    "    - Remove \"@name\"\n",
    "    - Isolate and remove punctuations except \"?\"\n",
    "    - Remove other special characters\n",
    "    - Remove stop words except \"not\" and \"can\"\n",
    "    - Remove trailing whitespace\n",
    "    \"\"\"\n",
    "    # lower-case the text of the tweet\n",
    "    tweet = tweet.lower()\n",
    "    \n",
    "    # Change 't to 'not'\n",
    "    tweet = re.sub(r\"\\'t\", \" not\", tweet)\n",
    "    \n",
    "    # Remove @name\n",
    "    tweet = re.sub(r'(@.*?)[\\s]', ' ', tweet)\n",
    "    \n",
    "    # Isolate and remove punctuations except '?'\n",
    "    tweet = re.sub(r'([\\'\\\"\\.\\(\\)\\!\\?\\\\\\/\\,])', r' \\1 ', tweet)\n",
    "    tweet = re.sub(r'[^\\w\\s\\?]', ' ', tweet)\n",
    "    \n",
    "    # Remove some special characters\n",
    "    tweet = re.sub(r'([\\;\\:\\|•«\\n])', ' ', tweet)\n",
    "    \n",
    "    # Remove stopwords except 'not' and 'can'\n",
    "    tweet = \" \".join([word for word in tweet.split()\n",
    "                  if word not in stopwords.words('english')\n",
    "                  or word in ['not', 'can']])\n",
    "    \n",
    "    # Remove trailing whitespace\n",
    "    tweet = re.sub(r'\\s+', ' ', tweet).strip()\n",
    "    \n",
    "    return tweet"
   ]
  },
  {
   "cell_type": "code",
   "execution_count": 11,
   "metadata": {},
   "outputs": [],
   "source": [
    "from sklearn.feature_extraction.text import TfidfVectorizer\n",
    "import numpy as np\n",
    "\n",
    "# Preprocess text\n",
    "X_train_preprocessed = np.array([text_preprocessing(text) for text in X_train])\n",
    "X_dev_preprocessed = np.array([text_preprocessing(text) for text in X_dev])\n",
    "X_test_preprocessed = np.array([text_preprocessing(text) for text in X_test])\n",
    "\n",
    "# TF-IDF\n",
    "tf_idf = TfidfVectorizer(# the number of words to capture (unigrams, bigrams, trigrams)\n",
    "                         ngram_range=(1, 3),\n",
    "                         binary=True,\n",
    "                         # avoid division by 0\n",
    "                         smooth_idf=False)\n",
    "\n",
    "X_train_tfidf = tf_idf.fit_transform(X_train_preprocessed)\n",
    "X_dev_tfidf = tf_idf.transform(X_dev_preprocessed)\n",
    "X_test_tfidf = tf_idf.transform(X_test_preprocessed)"
   ]
  },
  {
   "cell_type": "markdown",
   "metadata": {},
   "source": [
    "### Fit the data to the model"
   ]
  },
  {
   "cell_type": "code",
   "execution_count": 12,
   "metadata": {},
   "outputs": [
    {
     "data": {
      "text/plain": [
       "0.5503483217226093"
      ]
     },
     "execution_count": 12,
     "metadata": {},
     "output_type": "execute_result"
    }
   ],
   "source": [
    "from sklearn.naive_bayes import MultinomialNB\n",
    "\n",
    "# create the model\n",
    "baseline_model = MultinomialNB()\n",
    "\n",
    "# fit the data to the model\n",
    "baseline_model.fit(X_train_tfidf, y_train)\n",
    "\n",
    "# get the score\n",
    "baseline_model.score(X_test_tfidf, y_test)"
   ]
  },
  {
   "cell_type": "markdown",
   "metadata": {},
   "source": [
    "The Multinomial Naive-Bayes algorithm returns a mean accuracy of 55.03%. \n",
    "\n",
    "The above method is the same as doing the following:"
   ]
  },
  {
   "cell_type": "code",
   "execution_count": 13,
   "metadata": {},
   "outputs": [
    {
     "name": "stdout",
     "output_type": "stream",
     "text": [
      "0.5503483217226093\n"
     ]
    }
   ],
   "source": [
    "from sklearn.metrics import accuracy_score\n",
    "\n",
    "baseline_predictions = baseline_model.predict(X_test_tfidf)\n",
    "\n",
    "accuracy_s = accuracy_score(baseline_predictions, y_test)\n",
    "\n",
    "print(accuracy_s)"
   ]
  },
  {
   "cell_type": "markdown",
   "metadata": {},
   "source": [
    "## LSTM model"
   ]
  },
  {
   "cell_type": "code",
   "execution_count": 12,
   "metadata": {},
   "outputs": [
    {
     "name": "stdout",
     "output_type": "stream",
     "text": [
      "Train dataset size: 16259\n",
      "Dev dataset size: 9654\n",
      "Test dataset size: 28422\n"
     ]
    }
   ],
   "source": [
    "print('Train dataset size:', X_train_preprocessed.shape[0])\n",
    "print('Dev dataset size:', X_dev_preprocessed.shape[0])\n",
    "print('Test dataset size:', X_test_preprocessed.shape[0])"
   ]
  },
  {
   "cell_type": "code",
   "execution_count": 16,
   "metadata": {},
   "outputs": [],
   "source": [
    "import numpy as np\n",
    "\n",
    "import tensorflow as tf\n",
    "from tensorflow.keras.models import Sequential\n",
    "from tensorflow.keras.layers import Dense, Embedding, LSTM, SpatialDropout1D\n",
    "from tensorflow.keras.preprocessing.text import Tokenizer\n",
    "from tensorflow.keras.preprocessing.sequence import pad_sequences\n",
    "from keras.utils.np_utils import to_categorical\n",
    "\n",
    "from sklearn.feature_extraction.text import CountVectorizer"
   ]
  },
  {
   "cell_type": "markdown",
   "metadata": {},
   "source": [
    "#### Map the tweets from Vocabulary to int (Tokenize the text)"
   ]
  },
  {
   "cell_type": "code",
   "execution_count": 58,
   "metadata": {},
   "outputs": [],
   "source": [
    "# keep only the top 5000 most common words\n",
    "train_tokenizer = Tokenizer(num_words = 5000, split = ' ')\n",
    "train_tokenizer.fit_on_texts(X_train_preprocessed)\n",
    "\n",
    "X_train_seq = train_tokenizer.texts_to_sequences(X_train_preprocessed)\n",
    "X_train_seq = pad_sequences(X_train_seq, maxlen = 100)\n",
    "\n",
    "# repeat for dev and test sets\n",
    "dev_tokenizer = Tokenizer(num_words = 5000, split = ' ')\n",
    "dev_tokenizer.fit_on_texts(X_dev_preprocessed)\n",
    "\n",
    "X_dev_seq = dev_tokenizer.texts_to_sequences(X_dev_preprocessed)\n",
    "X_dev_seq = pad_sequences(X_dev_seq, maxlen = 100)\n",
    "\n",
    "test_tokenizer = Tokenizer(num_words = 5000, split = ' ')\n",
    "test_tokenizer.fit_on_texts(X_test_preprocessed)\n",
    "\n",
    "X_test_seq = test_tokenizer.texts_to_sequences(X_test_preprocessed)\n",
    "X_test_seq = pad_sequences(X_test_seq, maxlen = 100)\n"
   ]
  },
  {
   "cell_type": "code",
   "execution_count": 19,
   "metadata": {},
   "outputs": [],
   "source": [
    "from sklearn.preprocessing import LabelEncoder\n",
    "\n",
    "# Encode the labels\n",
    "train_enc = LabelEncoder()\n",
    "train_data['label_encoded2'] = train_enc.fit_transform(train_data['label'])\n",
    "\n",
    "dev_enc = LabelEncoder()\n",
    "dev_data['label_encoded2'] = dev_enc.fit_transform(dev_data['label'])\n",
    "\n",
    "test_enc = LabelEncoder()\n",
    "test_data['label_encoded2'] = test_enc.fit_transform(test_data['label'])"
   ]
  },
  {
   "cell_type": "code",
   "execution_count": 23,
   "metadata": {},
   "outputs": [],
   "source": [
    "y_train_lstm = np.array(train_data['label_encoded2'])\n",
    "y_dev_lstm = np.array(dev_data['label_encoded2'])\n",
    "y_test_lstm = np.array(test_data['label_encoded2'])"
   ]
  },
  {
   "cell_type": "code",
   "execution_count": 50,
   "metadata": {},
   "outputs": [
    {
     "data": {
      "text/plain": [
       "30"
      ]
     },
     "execution_count": 50,
     "metadata": {},
     "output_type": "execute_result"
    }
   ],
   "source": [
    "X_train_seq.shape[1]"
   ]
  },
  {
   "cell_type": "markdown",
   "metadata": {},
   "source": [
    "## Fine-tune a BERT Model"
   ]
  },
  {
   "cell_type": "code",
   "execution_count": 64,
   "metadata": {},
   "outputs": [],
   "source": [
    "def text_preprocessing_bert(text):\n",
    "    \"\"\"\n",
    "    - Remove entity mentions (eg. '@united')\n",
    "    - Correct errors (eg. '&amp;' to '&')\n",
    "    @param    text (str): a string to be processed.\n",
    "    @return   text (Str): the processed string.\n",
    "    \"\"\"\n",
    "    # Remove '@name'\n",
    "    text = re.sub(r'(@.*?)[\\s]', ' ', text)\n",
    "\n",
    "    # Replace '&amp;' with '&'\n",
    "    text = re.sub(r'&amp;', '&', text)\n",
    "\n",
    "    # Remove trailing whitespace\n",
    "    text = re.sub(r'\\s+', ' ', text).strip()\n",
    "\n",
    "    return text"
   ]
  },
  {
   "cell_type": "code",
   "execution_count": 67,
   "metadata": {},
   "outputs": [],
   "source": [
    "X_train_bert = np.array([text_preprocessing_bert(text) for text in X_train])            \n",
    "X_dev_bert = np.array([text_preprocessing_bert(text) for text in X_dev])\n",
    "X_test_bert = np.array([text_preprocessing_bert(text) for text in X_test])"
   ]
  },
  {
   "cell_type": "code",
   "execution_count": 92,
   "metadata": {},
   "outputs": [],
   "source": [
    "from transformers import BertTokenizer\n",
    "\n",
    "# Load the BERT tokenizer\n",
    "tokenizer = BertTokenizer.from_pretrained('bert-base-uncased', do_lower_case=True)\n",
    "\n",
    "# Create a function to tokenize a set of texts\n",
    "def preprocessing_for_bert(data, MAX_LEN):\n",
    "    \"\"\"Perform required preprocessing steps for pretrained BERT.\n",
    "    @param    data (np.array): Array of texts to be processed.\n",
    "    @return   input_ids (torch.Tensor): Tensor of token ids to be fed to a model.\n",
    "    @return   attention_masks (torch.Tensor): Tensor of indices specifying which\n",
    "                  tokens should be attended to by the model.\n",
    "    \"\"\"\n",
    "    # Create empty lists to store outputs\n",
    "    input_ids = []\n",
    "    attention_masks = []\n",
    "\n",
    "    # For every sentence...\n",
    "    for sent in data:\n",
    "        # `encode_plus` will:\n",
    "        #    (1) Tokenize the sentence\n",
    "        #    (2) Add the `[CLS]` and `[SEP]` token to the start and end\n",
    "        #    (3) Truncate/Pad sentence to max length\n",
    "        #    (4) Map tokens to their IDs\n",
    "        #    (5) Create attention mask\n",
    "        #    (6) Return a dictionary of outputs\n",
    "        encoded_sent = tokenizer.encode_plus(\n",
    "            text=text_preprocessing_bert(sent),  # Preprocess sentence\n",
    "            add_special_tokens=True,        # Add `[CLS]` and `[SEP]`\n",
    "            max_length=MAX_LEN,                  # Max length to truncate/pad\n",
    "            pad_to_max_length=True,         # Pad sentence to max length\n",
    "            #return_tensors='pt',           # Return PyTorch tensor\n",
    "            return_attention_mask=True      # Return attention mask\n",
    "            )\n",
    "        \n",
    "        # Add the outputs to the lists\n",
    "        input_ids.append(encoded_sent.get('input_ids'))\n",
    "        attention_masks.append(encoded_sent.get('attention_mask'))\n",
    "\n",
    "    # Convert lists to tensors\n",
    "    input_ids = tf.convert_to_tensor(input_ids)\n",
    "    attention_masks = tf.convert_to_tensor(attention_masks)\n",
    "\n",
    "    return input_ids, attention_masks"
   ]
  },
  {
   "cell_type": "code",
   "execution_count": 78,
   "metadata": {},
   "outputs": [],
   "source": [
    "# count the maximum number of words in the tweets\n",
    "n_train = 0\n",
    "n_dev = 0\n",
    "n_test = 0\n",
    "\n",
    "for tweet in X_train_bert:\n",
    "    if n_train <= len(tweet.split()):\n",
    "        n_train = len(tweet.split())\n",
    "        \n",
    "for tweet in X_dev_bert:\n",
    "    if n_dev <= len(tweet.split()):\n",
    "        n_dev = len(tweet.split())\n",
    "        \n",
    "for tweet in X_test_bert:\n",
    "    if n_test <= len(tweet.split()):\n",
    "        n_test = len(tweet.split())"
   ]
  },
  {
   "cell_type": "code",
   "execution_count": 82,
   "metadata": {},
   "outputs": [
    {
     "name": "stdout",
     "output_type": "stream",
     "text": [
      "Max number of words in the training tweets:  35\n",
      "Max number of words in the dev tweets:  34\n",
      "Max number of words in the test tweets:  33\n"
     ]
    }
   ],
   "source": [
    "print('Max number of words in the training tweets: ', n_train)\n",
    "print('Max number of words in the dev tweets: ', n_dev)\n",
    "print('Max number of words in the test tweets: ', n_test)"
   ]
  },
  {
   "cell_type": "code",
   "execution_count": 86,
   "metadata": {},
   "outputs": [
    {
     "name": "stdout",
     "output_type": "stream",
     "text": [
      "Max length:  112\n"
     ]
    }
   ],
   "source": [
    "# put all tweets together\n",
    "all_tweets = np.concatenate([X_train_bert, X_dev_bert, X_test_bert])\n",
    "\n",
    "# Encode the tweets\n",
    "encoded_tweets = [tokenizer.encode(text, add_special_tokens=True) for text in all_tweets]\n",
    "\n",
    "# Find the maximum length\n",
    "max_len = max([len(sent) for sent in encoded_tweets])\n",
    "print('Max length: ', max_len)"
   ]
  },
  {
   "cell_type": "code",
   "execution_count": 101,
   "metadata": {},
   "outputs": [],
   "source": [
    "# Preprocess the inputs and turn them into tensors\n",
    "X_train_inputs, X_train_mask = preprocessing_for_bert(X_train_bert, 100)\n",
    "X_dev_inputs, X_dev_mask = preprocessing_for_bert(X_dev_bert, 100)\n",
    "X_test_inputs, X_test_mask = preprocessing_for_bert(X_test_bert, 100)\n",
    "\n",
    "# turn the labels into tensors\n",
    "y_train_tensor = tf.convert_to_tensor(y_train_lstm)\n",
    "y_dev_tensor = tf.convert_to_tensor(y_dev_lstm)\n",
    "y_test_tensor = tf.convert_to_tensor(y_test_lstm)"
   ]
  },
  {
   "cell_type": "code",
   "execution_count": 106,
   "metadata": {
    "scrolled": true
   },
   "outputs": [
    {
     "data": {
      "application/vnd.jupyter.widget-view+json": {
       "model_id": "9cfb8ceb8ebc4c63a80e5fe48021e6fe",
       "version_major": 2,
       "version_minor": 0
      },
      "text/plain": [
       "HBox(children=(HTML(value='Downloading'), FloatProgress(value=0.0, max=536063208.0), HTML(value='')))"
      ]
     },
     "metadata": {},
     "output_type": "display_data"
    },
    {
     "name": "stdout",
     "output_type": "stream",
     "text": [
      "\n"
     ]
    },
    {
     "name": "stderr",
     "output_type": "stream",
     "text": [
      "All model checkpoint layers were used when initializing TFBertForSequenceClassification.\n",
      "\n",
      "Some layers of TFBertForSequenceClassification were not initialized from the model checkpoint at bert-base-uncased and are newly initialized: ['classifier']\n",
      "You should probably TRAIN this model on a down-stream task to be able to use it for predictions and inference.\n"
     ]
    }
   ],
   "source": [
    "from transformers import TFBertModel, BertConfig, TFBertForSequenceClassification\n",
    "\n",
    "model = TFBertForSequenceClassification.from_pretrained('bert-base-uncased', num_labels = 3)"
   ]
  },
  {
   "cell_type": "code",
   "execution_count": 107,
   "metadata": {},
   "outputs": [
    {
     "name": "stdout",
     "output_type": "stream",
     "text": [
      "Model: \"tf_bert_for_sequence_classification\"\n",
      "_________________________________________________________________\n",
      "Layer (type)                 Output Shape              Param #   \n",
      "=================================================================\n",
      "bert (TFBertMainLayer)       multiple                  109482240 \n",
      "_________________________________________________________________\n",
      "dropout_39 (Dropout)         multiple                  0         \n",
      "_________________________________________________________________\n",
      "classifier (Dense)           multiple                  2307      \n",
      "=================================================================\n",
      "Total params: 109,484,547\n",
      "Trainable params: 109,484,547\n",
      "Non-trainable params: 0\n",
      "_________________________________________________________________\n",
      "None\n"
     ]
    }
   ],
   "source": [
    "log_dir = r'D:\\Facultate\\Year 1\\Semester 1\\Text Mining\\A3\\bert_model'\n",
    "model_save_path = r'D:\\Facultate\\Year 1\\Semester 1\\Text Mining\\A3\\bert_model/bert_model_TM_A3.h5'\n",
    "\n",
    "callbacks = [\n",
    "    tf.keras.callbacks.ModelCheckpoint(filepath = model_save_path,\n",
    "                                       save_weights_only= True,\n",
    "                                       monitor = 'val_loss',\n",
    "                                       mode = 'min',\n",
    "                                       save_best_only = True),\n",
    "    tf.keras.callbacks.TensorBoard(log_dir = log_dir)\n",
    "]\n",
    "\n",
    "print(model.summary())"
   ]
  },
  {
   "cell_type": "code",
   "execution_count": 108,
   "metadata": {},
   "outputs": [],
   "source": [
    "loss = tf.keras.losses.SparseCategoricalCrossentropy(from_logits = True)\n",
    "metric = tf.keras.metrics.SparseCategoricalAccuracy('accuracy')\n",
    "optimizer = tf.keras.optimizers.Adam(learning_rate=2e-5, epsilon = 1e-08)\n",
    "\n",
    "model.compile(loss = loss, optimizer = optimizer, metrics = [metric])"
   ]
  },
  {
   "cell_type": "code",
   "execution_count": 1,
   "metadata": {},
   "outputs": [],
   "source": [
    "history_bert = model.fit([X_train_inputs, X_train_mask],\n",
    "                         y_train_tensor,\n",
    "                         batch_size = 32,\n",
    "                         epochs = 4,\n",
    "                         validation_data = ([X_dev_inputs, X_dev_mask], y_dev_tensor),\n",
    "                         callbacks = callbacks)"
   ]
  }
 ],
 "metadata": {
  "kernelspec": {
   "display_name": "Python 3",
   "language": "python",
   "name": "python3"
  },
  "language_info": {
   "codemirror_mode": {
    "name": "ipython",
    "version": 3
   },
   "file_extension": ".py",
   "mimetype": "text/x-python",
   "name": "python",
   "nbconvert_exporter": "python",
   "pygments_lexer": "ipython3",
   "version": "3.8.5"
  }
 },
 "nbformat": 4,
 "nbformat_minor": 4
}
